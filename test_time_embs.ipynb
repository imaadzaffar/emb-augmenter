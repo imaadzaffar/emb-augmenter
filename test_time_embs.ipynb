{
 "cells": [
  {
   "cell_type": "code",
   "execution_count": 4,
   "metadata": {},
   "outputs": [],
   "source": [
    "import os\n",
    "import torch\n",
    "import numpy as np\n",
    "\n",
    "from augmentations.augmentations import aug_combined, aug_rotation"
   ]
  },
  {
   "cell_type": "code",
   "execution_count": 53,
   "metadata": {},
   "outputs": [],
   "source": [
    "\n",
    "device = torch.device('cuda') if torch.cuda.is_available() else torch.device('cpu')\n",
    "\n",
    "torch.autograd.set_grad_enabled(False)\n",
    "\n",
    "from torchvision import transforms\n",
    "from utils.resnet_custom import resnet50_baseline\n",
    "\n",
    "def eval_transforms(pretrained=False):\n",
    "    if pretrained:\n",
    "        mean = (0.485, 0.456, 0.406)\n",
    "        std = (0.229, 0.224, 0.225)\n",
    "\n",
    "    else:\n",
    "        mean = (0.5, 0.5, 0.5)\n",
    "        std = (0.5, 0.5, 0.5)\n",
    "\n",
    "    trnsfrms_val = transforms.Compose(\n",
    "        [transforms.ToTensor(), transforms.Normalize(mean=mean, std=std)]\n",
    "    )\n",
    "\n",
    "    return trnsfrms_val\n",
    "\n",
    "resnet = resnet50_baseline(pretrained=True)\n",
    "resnet.to(device)\n",
    "resnet.eval()\n",
    "\n",
    "roi_transforms = eval_transforms(pretrained=True)\n",
    "\n",
    "import augmentations.augmentations as A"
   ]
  },
  {
   "cell_type": "code",
   "execution_count": 54,
   "metadata": {},
   "outputs": [
    {
     "data": {
      "text/plain": [
       "GeneratorMLP(\n",
       "  (encoder): Sequential(\n",
       "    (0): Linear(in_features=2048, out_features=1024, bias=True)\n",
       "    (1): ELU(alpha=1.0)\n",
       "    (2): AlphaDropout(p=0.2, inplace=False)\n",
       "    (3): Linear(in_features=1024, out_features=512, bias=True)\n",
       "    (4): ELU(alpha=1.0)\n",
       "    (5): AlphaDropout(p=0.2, inplace=False)\n",
       "    (6): Linear(in_features=512, out_features=256, bias=True)\n",
       "    (7): ELU(alpha=1.0)\n",
       "    (8): AlphaDropout(p=0.2, inplace=False)\n",
       "  )\n",
       "  (decoder): Sequential(\n",
       "    (0): Linear(in_features=256, out_features=512, bias=True)\n",
       "    (1): ELU(alpha=1.0)\n",
       "    (2): AlphaDropout(p=0.2, inplace=False)\n",
       "    (3): Linear(in_features=512, out_features=512, bias=True)\n",
       "    (4): ELU(alpha=1.0)\n",
       "    (5): AlphaDropout(p=0.2, inplace=False)\n",
       "    (6): Linear(in_features=512, out_features=1024, bias=True)\n",
       "  )\n",
       ")"
      ]
     },
     "execution_count": 54,
     "metadata": {},
     "output_type": "execute_result"
    }
   ],
   "source": [
    "# import generator\n",
    "from generator import GeneratorMLP\n",
    "\n",
    "# load model\n",
    "dagan_run_code = \"gan_mlp_s1_lr1e-03_None_b64_20221909_182052\"\n",
    "dagan_state_path = f\"/home/guillaume/Documents/uda/project-augmented-embeddings/2-dagan/results/sicapv2/{dagan_run_code}/s_4_checkpoint.pt\"\n",
    "dagan_state_dict = torch.load(dagan_state_path)\n",
    "\n",
    "n_tokens = 1024\n",
    "dropout = 0.2\n",
    "generator = GeneratorMLP(n_tokens, dropout)\n",
    "generator.load_state_dict(dagan_state_dict[\"G_state_dict\"])\n",
    "generator.eval().to(device)\n",
    "# print(generator)"
   ]
  },
  {
   "cell_type": "code",
   "execution_count": 55,
   "metadata": {},
   "outputs": [],
   "source": [
    "def get_true_emb(img):\n",
    "    # print(img)\n",
    "    # print(img.shape)\n",
    "    \n",
    "    aug_img = A.aug_rotation(img)\n",
    "    # print(aug_img)\n",
    "\n",
    "    aug_img = roi_transforms(aug_img).unsqueeze(0)\n",
    "    aug_img = aug_img.to(device)\n",
    "    true_emb = resnet(aug_img)\n",
    "    return true_emb\n",
    "\n",
    "def get_gen_emb(emb):\n",
    "    with torch.no_grad():\n",
    "        emb = emb.to(device)\n",
    "        noise = torch.randn(emb.size(0), emb.size(1), requires_grad=False).to(device)\n",
    "        aug_embs = generator.forward(emb, noise)\n",
    "    \n",
    "    return aug_embs"
   ]
  },
  {
   "cell_type": "code",
   "execution_count": 57,
   "metadata": {},
   "outputs": [
    {
     "name": "stdout",
     "output_type": "stream",
     "text": [
      "true:         0.006424951219558716\n",
      "gen (mlp):    0.0005146847009658813\n"
     ]
    }
   ],
   "source": [
    "import time\n",
    "\n",
    "img = np.random.randint(low=0, high=255, size=(256,256,3), dtype='uint8')\n",
    "emb = torch.randn(1,1024)\n",
    "\n",
    "# ------ TIME -----\n",
    "\n",
    "def time_func(f):\n",
    "    st = time.time()\n",
    "    f()\n",
    "    et = time.time()\n",
    "    res = et - st\n",
    "    return res\n",
    "\n",
    "n = 10000\n",
    "time_true = 0\n",
    "time_gen = 0\n",
    "for _ in range(n):\n",
    "    # true\n",
    "    st = time.time()\n",
    "    get_true_emb(img)\n",
    "    et = time.time()\n",
    "    res = et - st\n",
    "    time_true += res\n",
    "\n",
    "    # gen\n",
    "    st = time.time()\n",
    "    get_gen_emb(emb)\n",
    "    et = time.time()\n",
    "    res = et - st\n",
    "    time_gen += res\n",
    "    \n",
    "time_true /= n\n",
    "time_gen /= n\n",
    "\n",
    "print(\"true:        \", time_true)\n",
    "print(\"gen (mlp):   \", time_gen)\n"
   ]
  }
 ],
 "metadata": {
  "kernelspec": {
   "display_name": "Python 3.9.12 ('imaad')",
   "language": "python",
   "name": "python3"
  },
  "language_info": {
   "codemirror_mode": {
    "name": "ipython",
    "version": 3
   },
   "file_extension": ".py",
   "mimetype": "text/x-python",
   "name": "python",
   "nbconvert_exporter": "python",
   "pygments_lexer": "ipython3",
   "version": "3.9.12"
  },
  "orig_nbformat": 4,
  "vscode": {
   "interpreter": {
    "hash": "dac0b148558e27d619d1e88e23f73424ec04179d0741e54f0409a16cf6f8f5f5"
   }
  }
 },
 "nbformat": 4,
 "nbformat_minor": 2
}
